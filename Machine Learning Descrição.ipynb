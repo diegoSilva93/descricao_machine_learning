{
 "cells": [
  {
   "cell_type": "markdown",
   "id": "f49d8b2c",
   "metadata": {},
   "source": [
    "# Machine Learning Descrição"
   ]
  },
  {
   "cell_type": "markdown",
   "id": "ea7cfcf6",
   "metadata": {},
   "source": [
    "**O que é Machine Learning:** Aprendizado de Máquina é a ciência da programção de computadores para que eles possam aprender com os dados."
   ]
  },
  {
   "cell_type": "markdown",
   "id": "ce009dd1",
   "metadata": {},
   "source": [
    "### Tipos de Aprendizado de Máquina"
   ]
  },
  {
   "cell_type": "markdown",
   "id": "83194608",
   "metadata": {},
   "source": [
    "**Aprendizado Supervisionado:** No Aprendizado Supervisionado os dados de treinamento fornecidos pelo programador incluem as soluções desejada, Ou seja, O aprendizado Supervisionado nada mais é do que um modelo que aprende apartir de dados fornecidos de maneira pré-definida, para fazer uso dos valores passados da variável target e aprender quais devem ser os resultados de saída. São exemplos de aprendizado supervisionado;\n",
    "* K-Nearest Neighbours\n",
    "* Regressão Linear\n",
    "* Regressão Logística\n",
    "* Suport Vector Machine (SVM)\n",
    "* Árvores de decisão e Florestas Aleatórias\n",
    "* Redes Neurais\n",
    "\n",
    "**Aprendizado Não supervisionado:** No aprendizado de máquina não supervisionado os dados de treinamento não rotulados, é como se o sistema tenta aprender sem um professor, Segue alguns exemplos de Aprendizado não supervisionado;\n",
    "* Clustering<br>\n",
    "    -- K-Means<br>\n",
    "    -- Clustering Hierárquico<br>\n",
    "    -- Maximização da expectativa<br>\n",
    "* Visualização e redução da dimensionalidade <br>\n",
    "    -- Análise de Componentes Principais<br>\n",
    "    -- Kernel PCA<br>\n",
    "    -- Locally-Linear Embedding<br>\n",
    "    -- t-distributed Stochastic Neighbor Embedding<br>\n",
    "* Aprendizado da regra da associação<br>\n",
    "    -- Apriori<br>\n",
    "    -- Eclat<br>\n",
    "    \n",
    "**Aprendizado semi-supervisionado:**  Aprendizado semi-supervisionados são algoritmos que possuem dados rotulados e não rotulados.\n",
    "\n",
    "**Aprendizado por reforço:** No Aprendizado por reforço o sistema de aprendizado realiza um tipo de recompensas para acertos e penalidades para erros.\n",
    "\n",
    "### Aprendizado Online e em Lote\n",
    "\n",
    "**Aprendizado em Lote:** No aprendizado em lote o sistema é incapaz de aprender de forma incremental, deve-se atualizar todos os dados disponíveis para realizar o treinamento. Inicialmente o sistema é treinamento e em seguida enviado para produção, isso é conhecido como aprendizado offline. O sistema em lote pode se adaptar às mudanças, sendo necessário apenas atualizar os dados e treinar a partir do zero uma nova versão do sistema sempre que necessário.\n",
    "\n",
    "**Aprendizado Online:** No aprendizado online você realiza o treinamento de forma incremental, ou seja, alimenta de maneira sequencial as intâncias de dados individualmente ou em pequenos grupos, conhecidos como mini lotes. O aprendizaod online é ótimo para sistemas que recebem dados como um fluxo contínuo e precisa se adaptar às mudanças de maneira autonoma e rápida. Além disso, quando o sistema aprende sobre uma nova instância não é necessário mais o seu uso podendo ser descartado, tornando o processo mais barato. O sistema de aprendizado online pode ser utilizado para treinar sistemas em grandes conjuntos de dados que não cabem na memória principal. "
   ]
  },
  {
   "cell_type": "markdown",
   "id": "790fe606",
   "metadata": {},
   "source": [
    "### Aprendizado baseado em Instância Versus Aprendizado Baseado em Modelo"
   ]
  },
  {
   "cell_type": "code",
   "execution_count": null,
   "id": "5f98bb7d",
   "metadata": {},
   "outputs": [],
   "source": []
  }
 ],
 "metadata": {
  "kernelspec": {
   "display_name": "Python 3 (ipykernel)",
   "language": "python",
   "name": "python3"
  },
  "language_info": {
   "codemirror_mode": {
    "name": "ipython",
    "version": 3
   },
   "file_extension": ".py",
   "mimetype": "text/x-python",
   "name": "python",
   "nbconvert_exporter": "python",
   "pygments_lexer": "ipython3",
   "version": "3.9.2"
  }
 },
 "nbformat": 4,
 "nbformat_minor": 5
}
