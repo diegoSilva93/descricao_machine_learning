{
 "cells": [
  {
   "cell_type": "markdown",
   "id": "f49d8b2c",
   "metadata": {},
   "source": [
    "# Machine Learning Descrição"
   ]
  },
  {
   "cell_type": "markdown",
   "id": "ea7cfcf6",
   "metadata": {},
   "source": [
    "**O que é Machine Learning:** Aprendizado de Máquina é a ciência da programção de computadores para que eles possam aprender com os dados."
   ]
  },
  {
   "cell_type": "markdown",
   "id": "ce009dd1",
   "metadata": {},
   "source": [
    "### Tipos de Aprendizado de Máquina"
   ]
  },
  {
   "cell_type": "markdown",
   "id": "83194608",
   "metadata": {},
   "source": [
    "**Aprendizado Supervisionado:** No Aprendizado Supervisionado os dados de treinamento fornecidos pelo programador incluem as soluções desejada, Ou seja, O aprendizado Supervisionado nada mais é do que um modelo que aprende apartir de dados fornecidos de maneira pré-definida, para fazer uso dos valores passados da variável target e aprender quais devem ser os resultados de saída. São exemplos de aprendizado supervisionado;\n",
    "* K-Nearest Neighbours\n",
    "* Regressão Linear\n",
    "* Regressão Logística\n",
    "* Suport Vector Machine (SVM)\n",
    "* Árvores de decisão e Florestas Aleatórias\n",
    "* Redes Neurais\n",
    "\n",
    "**Aprendizado Não supervisionado:** "
   ]
  },
  {
   "cell_type": "code",
   "execution_count": null,
   "id": "22bda3ba",
   "metadata": {},
   "outputs": [],
   "source": []
  }
 ],
 "metadata": {
  "kernelspec": {
   "display_name": "Python 3 (ipykernel)",
   "language": "python",
   "name": "python3"
  },
  "language_info": {
   "codemirror_mode": {
    "name": "ipython",
    "version": 3
   },
   "file_extension": ".py",
   "mimetype": "text/x-python",
   "name": "python",
   "nbconvert_exporter": "python",
   "pygments_lexer": "ipython3",
   "version": "3.9.2"
  }
 },
 "nbformat": 4,
 "nbformat_minor": 5
}
