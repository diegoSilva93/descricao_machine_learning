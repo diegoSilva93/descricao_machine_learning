{
 "cells": [
  {
   "cell_type": "markdown",
   "id": "f49d8b2c",
   "metadata": {},
   "source": [
    "# Machine Learning Descrição"
   ]
  },
  {
   "cell_type": "markdown",
   "id": "ea7cfcf6",
   "metadata": {},
   "source": [
    "**O que é Machine Learning:** Aprendizado de Máquina é a ciência da programção de computadores para que eles possam aprender com os dados."
   ]
  },
  {
   "cell_type": "markdown",
   "id": "ce009dd1",
   "metadata": {},
   "source": [
    "### Tipos de Aprendizado de Máquina"
   ]
  },
  {
   "cell_type": "markdown",
   "id": "83194608",
   "metadata": {},
   "source": [
    "**Aprendizado Supervisionado:** No Aprendizado Supervisionado os dados de treinamento fornecidos pelo programador incluem as soluções desejada, Ou seja, O aprendizado Supervisionado nada mais é do que um modelo que aprende apartir de dados fornecidos de maneira pré-definida, para fazer uso dos valores passados da variável target e aprender quais devem ser os resultados de saída. São exemplos de aprendizado supervisionado;\n",
    "* K-Nearest Neighbours\n",
    "* Regressão Linear\n",
    "* Regressão Logística\n",
    "* Suport Vector Machine (SVM)\n",
    "* Árvores de decisão e Florestas Aleatórias\n",
    "* Redes Neurais\n",
    "\n",
    "**Aprendizado Não supervisionado:** No aprendizado de máquina não supervisionado os dados de treinamento não rotulados, é como se o sistema tenta aprender sem um professor, Segue alguns exemplos de Aprendizado não supervisionado;\n",
    "* Clustering<br>\n",
    "    -- K-Means<br>\n",
    "    -- Clustering Hierárquico<br>\n",
    "    -- Maximização da expectativa<br>\n",
    "* Visualização e redução da dimensionalidade <br>\n",
    "    -- Análise de Componentes Principais<br>\n",
    "    -- Kernel PCA<br>\n",
    "    -- Locally-Linear Embedding<br>\n",
    "    -- t-distributed Stochastic Neighbor Embedding<br>\n",
    "* Aprendizado da regra da associação<br>\n",
    "    -- Apriori<br>\n",
    "    -- Eclat<br>\n",
    "    \n",
    "**Aprendizado semi-supervisionado:**  Aprendizado semi-supervisionados são algoritmos que possuem dados rotulados e não rotulados.\n",
    "\n",
    "**Aprendizado por reforço:** No Aprendizado por reforço o sistema de aprendizado realiza um tipo de recompensas para acertos e penalidades para erros.\n",
    "\n",
    "### Aprendizado Online e em Lote\n",
    "\n",
    "**Aprendizado em Lote:** "
   ]
  },
  {
   "cell_type": "markdown",
   "id": "8cc5209c",
   "metadata": {},
   "source": []
  }
 ],
 "metadata": {
  "kernelspec": {
   "display_name": "Python 3 (ipykernel)",
   "language": "python",
   "name": "python3"
  },
  "language_info": {
   "codemirror_mode": {
    "name": "ipython",
    "version": 3
   },
   "file_extension": ".py",
   "mimetype": "text/x-python",
   "name": "python",
   "nbconvert_exporter": "python",
   "pygments_lexer": "ipython3",
   "version": "3.9.2"
  }
 },
 "nbformat": 4,
 "nbformat_minor": 5
}
