{
 "cells": [
  {
   "cell_type": "markdown",
   "id": "ed0489af",
   "metadata": {},
   "source": [
    "# Modelos de classificação"
   ]
  },
  {
   "cell_type": "markdown",
   "id": "93818a04",
   "metadata": {},
   "source": [
    "Esse jupyter tem como finalidade implementar os conceitos descritos no arquivo \"descrição Machine Learning\", Onde inicialmente irei aplicar os conceito da matriz de confusão, acurácia, escore de precisão e recall.\n",
    "\n",
    "### Baixando as bibliotecas"
   ]
  },
  {
   "cell_type": "code",
   "execution_count": 37,
   "id": "ff31e816",
   "metadata": {},
   "outputs": [],
   "source": [
    "from sklearn.metrics import confusion_matrix\n",
    "from sklearn.metrics import accuracy_score\n",
    "from sklearn.metrics import precision_score\n",
    "from sklearn.metrics import recall_score"
   ]
  },
  {
   "cell_type": "code",
   "execution_count": 38,
   "id": "e52db531",
   "metadata": {},
   "outputs": [],
   "source": [
    "\n",
    "y_true = [1,0,0,1,1,1,0,1,0,0]\n",
    "y_pred = [1,0,1,0,1,0,1,0,1,0]"
   ]
  },
  {
   "cell_type": "code",
   "execution_count": 39,
   "id": "cb6e5ab2",
   "metadata": {},
   "outputs": [
    {
     "data": {
      "text/plain": [
       "array([[2, 3],\n",
       "       [3, 2]])"
      ]
     },
     "execution_count": 39,
     "metadata": {},
     "output_type": "execute_result"
    }
   ],
   "source": [
    "confusion_matrix(y_true, y_pred)"
   ]
  },
  {
   "cell_type": "code",
   "execution_count": 40,
   "id": "a8bee6f9",
   "metadata": {},
   "outputs": [
    {
     "data": {
      "text/plain": [
       "0.4"
      ]
     },
     "execution_count": 40,
     "metadata": {},
     "output_type": "execute_result"
    }
   ],
   "source": [
    "accuracy_score(y_true, y_pred)"
   ]
  },
  {
   "cell_type": "code",
   "execution_count": 41,
   "id": "dd66b92d",
   "metadata": {},
   "outputs": [
    {
     "data": {
      "text/plain": [
       "0.4"
      ]
     },
     "execution_count": 41,
     "metadata": {},
     "output_type": "execute_result"
    }
   ],
   "source": [
    "precision_score(y_true, y_pred)"
   ]
  },
  {
   "cell_type": "code",
   "execution_count": 42,
   "id": "629c26ab",
   "metadata": {},
   "outputs": [
    {
     "data": {
      "text/plain": [
       "0.4"
      ]
     },
     "execution_count": 42,
     "metadata": {},
     "output_type": "execute_result"
    }
   ],
   "source": [
    "recall_score(y_true, y_pred)"
   ]
  },
  {
   "cell_type": "markdown",
   "id": "e7fef3c8",
   "metadata": {},
   "source": [
    "### Realizando aplicação apartir de um conjunto de dados"
   ]
  },
  {
   "cell_type": "code",
   "execution_count": 43,
   "id": "0c0218ad",
   "metadata": {},
   "outputs": [],
   "source": [
    "import pandas as pd"
   ]
  },
  {
   "cell_type": "code",
   "execution_count": 44,
   "id": "44cbd0c2",
   "metadata": {},
   "outputs": [
    {
     "name": "stdout",
     "output_type": "stream",
     "text": [
      "Defaulting to user installation because normal site-packages is not writeable\n",
      "Requirement already satisfied: openpyxl in /home/diego/.local/lib/python3.9/site-packages (3.0.10)\n",
      "Requirement already satisfied: et-xmlfile in /home/diego/.local/lib/python3.9/site-packages (from openpyxl) (1.1.0)\n",
      "--- Logging error ---\n",
      "Traceback (most recent call last):\n",
      "  File \"/home/diego/.local/lib/python3.9/site-packages/pip/_internal/utils/logging.py\", line 177, in emit\n",
      "    self.console.print(renderable, overflow=\"ignore\", crop=False, style=style)\n",
      "  File \"/home/diego/.local/lib/python3.9/site-packages/pip/_vendor/rich/console.py\", line 1673, in print\n",
      "    extend(render(renderable, render_options))\n",
      "  File \"/home/diego/.local/lib/python3.9/site-packages/pip/_vendor/rich/console.py\", line 1305, in render\n",
      "    for render_output in iter_render:\n",
      "  File \"/home/diego/.local/lib/python3.9/site-packages/pip/_internal/utils/logging.py\", line 134, in __rich_console__\n",
      "    for line in lines:\n",
      "  File \"/home/diego/.local/lib/python3.9/site-packages/pip/_vendor/rich/segment.py\", line 249, in split_lines\n",
      "    for segment in segments:\n",
      "  File \"/home/diego/.local/lib/python3.9/site-packages/pip/_vendor/rich/console.py\", line 1283, in render\n",
      "    renderable = rich_cast(renderable)\n",
      "  File \"/home/diego/.local/lib/python3.9/site-packages/pip/_vendor/rich/protocol.py\", line 36, in rich_cast\n",
      "    renderable = cast_method()\n",
      "  File \"/home/diego/.local/lib/python3.9/site-packages/pip/_internal/self_outdated_check.py\", line 130, in __rich__\n",
      "    pip_cmd = get_best_invocation_for_this_pip()\n",
      "  File \"/home/diego/.local/lib/python3.9/site-packages/pip/_internal/utils/entrypoints.py\", line 58, in get_best_invocation_for_this_pip\n",
      "    if found_executable and os.path.samefile(\n",
      "  File \"/usr/lib/python3.9/genericpath.py\", line 101, in samefile\n",
      "    s2 = os.stat(f2)\n",
      "FileNotFoundError: [Errno 2] Arquivo ou diretório inexistente: '/usr/bin/pip3.9'\n",
      "Call stack:\n",
      "  File \"/home/diego/.local/bin/pip\", line 8, in <module>\n",
      "    sys.exit(main())\n",
      "  File \"/home/diego/.local/lib/python3.9/site-packages/pip/_internal/cli/main.py\", line 70, in main\n",
      "    return command.main(cmd_args)\n",
      "  File \"/home/diego/.local/lib/python3.9/site-packages/pip/_internal/cli/base_command.py\", line 101, in main\n",
      "    return self._main(args)\n",
      "  File \"/home/diego/.local/lib/python3.9/site-packages/pip/_internal/cli/base_command.py\", line 223, in _main\n",
      "    self.handle_pip_version_check(options)\n",
      "  File \"/home/diego/.local/lib/python3.9/site-packages/pip/_internal/cli/req_command.py\", line 190, in handle_pip_version_check\n",
      "    pip_self_version_check(session, options)\n",
      "  File \"/home/diego/.local/lib/python3.9/site-packages/pip/_internal/self_outdated_check.py\", line 236, in pip_self_version_check\n",
      "    logger.warning(\"[present-rich] %s\", upgrade_prompt)\n",
      "  File \"/usr/lib/python3.9/logging/__init__.py\", line 1454, in warning\n",
      "    self._log(WARNING, msg, args, **kwargs)\n",
      "  File \"/usr/lib/python3.9/logging/__init__.py\", line 1585, in _log\n",
      "    self.handle(record)\n",
      "  File \"/usr/lib/python3.9/logging/__init__.py\", line 1595, in handle\n",
      "    self.callHandlers(record)\n",
      "  File \"/usr/lib/python3.9/logging/__init__.py\", line 1657, in callHandlers\n",
      "    hdlr.handle(record)\n",
      "  File \"/usr/lib/python3.9/logging/__init__.py\", line 948, in handle\n",
      "    self.emit(record)\n",
      "  File \"/home/diego/.local/lib/python3.9/site-packages/pip/_internal/utils/logging.py\", line 179, in emit\n",
      "    self.handleError(record)\n",
      "Message: '[present-rich] %s'\n",
      "Arguments: (UpgradePrompt(old='22.2.2', new='22.3'),)\n"
     ]
    }
   ],
   "source": [
    "!pip install openpyxl"
   ]
  },
  {
   "cell_type": "code",
   "execution_count": 45,
   "id": "0b97569f",
   "metadata": {},
   "outputs": [],
   "source": [
    "base = pd.read_excel(\"BaseInadimplencia.xlsx\",sheet_name = 'treino')\n",
    "teste = pd.read_excel(\"BaseInadimplencia.xlsx\",sheet_name = 'teste')"
   ]
  },
  {
   "cell_type": "code",
   "execution_count": 46,
   "id": "0ff9f3e1",
   "metadata": {},
   "outputs": [
    {
     "data": {
      "text/html": [
       "<div>\n",
       "<style scoped>\n",
       "    .dataframe tbody tr th:only-of-type {\n",
       "        vertical-align: middle;\n",
       "    }\n",
       "\n",
       "    .dataframe tbody tr th {\n",
       "        vertical-align: top;\n",
       "    }\n",
       "\n",
       "    .dataframe thead th {\n",
       "        text-align: right;\n",
       "    }\n",
       "</style>\n",
       "<table border=\"1\" class=\"dataframe\">\n",
       "  <thead>\n",
       "    <tr style=\"text-align: right;\">\n",
       "      <th></th>\n",
       "      <th>SaldoConta</th>\n",
       "      <th>SaldoInvestimento</th>\n",
       "      <th>Situacao</th>\n",
       "    </tr>\n",
       "  </thead>\n",
       "  <tbody>\n",
       "    <tr>\n",
       "      <th>0</th>\n",
       "      <td>-1.365390</td>\n",
       "      <td>-3.280278</td>\n",
       "      <td>0</td>\n",
       "    </tr>\n",
       "    <tr>\n",
       "      <th>1</th>\n",
       "      <td>-3.910816</td>\n",
       "      <td>-0.874096</td>\n",
       "      <td>0</td>\n",
       "    </tr>\n",
       "    <tr>\n",
       "      <th>2</th>\n",
       "      <td>-2.745822</td>\n",
       "      <td>-2.250098</td>\n",
       "      <td>0</td>\n",
       "    </tr>\n",
       "    <tr>\n",
       "      <th>3</th>\n",
       "      <td>-1.352205</td>\n",
       "      <td>-1.280924</td>\n",
       "      <td>0</td>\n",
       "    </tr>\n",
       "    <tr>\n",
       "      <th>4</th>\n",
       "      <td>-0.596639</td>\n",
       "      <td>-2.932358</td>\n",
       "      <td>0</td>\n",
       "    </tr>\n",
       "    <tr>\n",
       "      <th>...</th>\n",
       "      <td>...</td>\n",
       "      <td>...</td>\n",
       "      <td>...</td>\n",
       "    </tr>\n",
       "    <tr>\n",
       "      <th>817</th>\n",
       "      <td>2.609063</td>\n",
       "      <td>1.268911</td>\n",
       "      <td>1</td>\n",
       "    </tr>\n",
       "    <tr>\n",
       "      <th>818</th>\n",
       "      <td>2.258579</td>\n",
       "      <td>2.014766</td>\n",
       "      <td>1</td>\n",
       "    </tr>\n",
       "    <tr>\n",
       "      <th>819</th>\n",
       "      <td>1.446370</td>\n",
       "      <td>3.518259</td>\n",
       "      <td>1</td>\n",
       "    </tr>\n",
       "    <tr>\n",
       "      <th>820</th>\n",
       "      <td>2.678502</td>\n",
       "      <td>3.712650</td>\n",
       "      <td>1</td>\n",
       "    </tr>\n",
       "    <tr>\n",
       "      <th>821</th>\n",
       "      <td>-0.738375</td>\n",
       "      <td>2.087232</td>\n",
       "      <td>1</td>\n",
       "    </tr>\n",
       "  </tbody>\n",
       "</table>\n",
       "<p>822 rows × 3 columns</p>\n",
       "</div>"
      ],
      "text/plain": [
       "     SaldoConta  SaldoInvestimento  Situacao\n",
       "0     -1.365390          -3.280278         0\n",
       "1     -3.910816          -0.874096         0\n",
       "2     -2.745822          -2.250098         0\n",
       "3     -1.352205          -1.280924         0\n",
       "4     -0.596639          -2.932358         0\n",
       "..          ...                ...       ...\n",
       "817    2.609063           1.268911         1\n",
       "818    2.258579           2.014766         1\n",
       "819    1.446370           3.518259         1\n",
       "820    2.678502           3.712650         1\n",
       "821   -0.738375           2.087232         1\n",
       "\n",
       "[822 rows x 3 columns]"
      ]
     },
     "execution_count": 46,
     "metadata": {},
     "output_type": "execute_result"
    }
   ],
   "source": [
    "base"
   ]
  },
  {
   "cell_type": "code",
   "execution_count": 47,
   "id": "809069a5",
   "metadata": {},
   "outputs": [
    {
     "data": {
      "image/png": "[encoded data removed]",
      "text/plain": [
       "<Figure size 432x288 with 1 Axes>"
      ]
     },
     "metadata": {
      "needs_background": "light"
     },
     "output_type": "display_data"
    }
   ],
   "source": [
    "# Criando uma reta que separa os dados no gráfico\n",
    "import matplotlib.pyplot as plt\n",
    "\n",
    "fig, ax = plt.subplots()\n",
    "ax.scatter(base.SaldoConta, base['SaldoInvestimento'],c = base.Situacao)\n",
    "x = [6,-6]\n",
    "y = [-6,6]\n",
    "ax.plot(x, y)\n",
    "\n",
    "plt.show()"
   ]
  },
  {
   "cell_type": "code",
   "execution_count": 48,
   "id": "c7b9da6e",
   "metadata": {},
   "outputs": [],
   "source": [
    "# Transformando essa reta em uma função para classificar os pontos\n",
    "def clf(x,y):\n",
    "    # y_modelo = -x_modelo\n",
    "    y_modelo = -x\n",
    "\n",
    "    # Se y_modelo > y_dado -> class: 0\n",
    "    if y_modelo >= y:\n",
    "        return 0\n",
    "    # Se y_modelo < y_dado -> class: 1\n",
    "    elif y_modelo < y:\n",
    "        return 1"
   ]
  },
  {
   "cell_type": "code",
   "execution_count": 49,
   "id": "55f0fda3",
   "metadata": {},
   "outputs": [],
   "source": [
    "# Aplicando a função aos dados de treino\n",
    "base['predict'] = base.apply(lambda x:clf(x['SaldoConta'],x['SaldoInvestimento']),axis=1)\n",
    "teste['predict'] = teste.apply(lambda x:clf(x['SaldoConta'],x['SaldoInvestimento']),axis=1)"
   ]
  },
  {
   "cell_type": "code",
   "execution_count": 50,
   "id": "ba44be36",
   "metadata": {},
   "outputs": [
    {
     "data": {
      "text/html": [
       "<div>\n",
       "<style scoped>\n",
       "    .dataframe tbody tr th:only-of-type {\n",
       "        vertical-align: middle;\n",
       "    }\n",
       "\n",
       "    .dataframe tbody tr th {\n",
       "        vertical-align: top;\n",
       "    }\n",
       "\n",
       "    .dataframe thead th {\n",
       "        text-align: right;\n",
       "    }\n",
       "</style>\n",
       "<table border=\"1\" class=\"dataframe\">\n",
       "  <thead>\n",
       "    <tr style=\"text-align: right;\">\n",
       "      <th></th>\n",
       "      <th>SaldoConta</th>\n",
       "      <th>SaldoInvestimento</th>\n",
       "      <th>Situacao</th>\n",
       "      <th>predict</th>\n",
       "    </tr>\n",
       "  </thead>\n",
       "  <tbody>\n",
       "    <tr>\n",
       "      <th>0</th>\n",
       "      <td>-1.365390</td>\n",
       "      <td>-3.280278</td>\n",
       "      <td>0</td>\n",
       "      <td>0</td>\n",
       "    </tr>\n",
       "    <tr>\n",
       "      <th>1</th>\n",
       "      <td>-3.910816</td>\n",
       "      <td>-0.874096</td>\n",
       "      <td>0</td>\n",
       "      <td>0</td>\n",
       "    </tr>\n",
       "    <tr>\n",
       "      <th>2</th>\n",
       "      <td>-2.745822</td>\n",
       "      <td>-2.250098</td>\n",
       "      <td>0</td>\n",
       "      <td>0</td>\n",
       "    </tr>\n",
       "    <tr>\n",
       "      <th>3</th>\n",
       "      <td>-1.352205</td>\n",
       "      <td>-1.280924</td>\n",
       "      <td>0</td>\n",
       "      <td>0</td>\n",
       "    </tr>\n",
       "    <tr>\n",
       "      <th>4</th>\n",
       "      <td>-0.596639</td>\n",
       "      <td>-2.932358</td>\n",
       "      <td>0</td>\n",
       "      <td>0</td>\n",
       "    </tr>\n",
       "    <tr>\n",
       "      <th>...</th>\n",
       "      <td>...</td>\n",
       "      <td>...</td>\n",
       "      <td>...</td>\n",
       "      <td>...</td>\n",
       "    </tr>\n",
       "    <tr>\n",
       "      <th>817</th>\n",
       "      <td>2.609063</td>\n",
       "      <td>1.268911</td>\n",
       "      <td>1</td>\n",
       "      <td>1</td>\n",
       "    </tr>\n",
       "    <tr>\n",
       "      <th>818</th>\n",
       "      <td>2.258579</td>\n",
       "      <td>2.014766</td>\n",
       "      <td>1</td>\n",
       "      <td>1</td>\n",
       "    </tr>\n",
       "    <tr>\n",
       "      <th>819</th>\n",
       "      <td>1.446370</td>\n",
       "      <td>3.518259</td>\n",
       "      <td>1</td>\n",
       "      <td>1</td>\n",
       "    </tr>\n",
       "    <tr>\n",
       "      <th>820</th>\n",
       "      <td>2.678502</td>\n",
       "      <td>3.712650</td>\n",
       "      <td>1</td>\n",
       "      <td>1</td>\n",
       "    </tr>\n",
       "    <tr>\n",
       "      <th>821</th>\n",
       "      <td>-0.738375</td>\n",
       "      <td>2.087232</td>\n",
       "      <td>1</td>\n",
       "      <td>1</td>\n",
       "    </tr>\n",
       "  </tbody>\n",
       "</table>\n",
       "<p>822 rows × 4 columns</p>\n",
       "</div>"
      ],
      "text/plain": [
       "     SaldoConta  SaldoInvestimento  Situacao  predict\n",
       "0     -1.365390          -3.280278         0        0\n",
       "1     -3.910816          -0.874096         0        0\n",
       "2     -2.745822          -2.250098         0        0\n",
       "3     -1.352205          -1.280924         0        0\n",
       "4     -0.596639          -2.932358         0        0\n",
       "..          ...                ...       ...      ...\n",
       "817    2.609063           1.268911         1        1\n",
       "818    2.258579           2.014766         1        1\n",
       "819    1.446370           3.518259         1        1\n",
       "820    2.678502           3.712650         1        1\n",
       "821   -0.738375           2.087232         1        1\n",
       "\n",
       "[822 rows x 4 columns]"
      ]
     },
     "execution_count": 50,
     "metadata": {},
     "output_type": "execute_result"
    }
   ],
   "source": [
    "base"
   ]
  },
  {
   "cell_type": "code",
   "execution_count": 51,
   "id": "34ae8d83",
   "metadata": {},
   "outputs": [
    {
     "data": {
      "text/plain": [
       "Situacao  predict\n",
       "0         0          444\n",
       "1         1          378\n",
       "Name: predict, dtype: int64"
      ]
     },
     "execution_count": 51,
     "metadata": {},
     "output_type": "execute_result"
    }
   ],
   "source": [
    "base.groupby([\"Situacao\", \"predict\"])[\"predict\"].count()"
   ]
  },
  {
   "cell_type": "code",
   "execution_count": 52,
   "id": "869a42dd",
   "metadata": {},
   "outputs": [
    {
     "data": {
      "text/plain": [
       "array([[444,   0],\n",
       "       [  0, 378]])"
      ]
     },
     "execution_count": 52,
     "metadata": {},
     "output_type": "execute_result"
    }
   ],
   "source": [
    "confusion_matrix(base.Situacao, base.predict)"
   ]
  },
  {
   "cell_type": "code",
   "execution_count": 53,
   "id": "30b3de27",
   "metadata": {},
   "outputs": [
    {
     "data": {
      "text/plain": [
       "1.0"
      ]
     },
     "execution_count": 53,
     "metadata": {},
     "output_type": "execute_result"
    }
   ],
   "source": [
    "accuracy_score(base.Situacao, base.predict)"
   ]
  },
  {
   "cell_type": "code",
   "execution_count": 54,
   "id": "2899a3ca",
   "metadata": {},
   "outputs": [
    {
     "data": {
      "text/plain": [
       "1.0"
      ]
     },
     "execution_count": 54,
     "metadata": {},
     "output_type": "execute_result"
    }
   ],
   "source": [
    "precision_score(base.Situacao, base.predict)"
   ]
  },
  {
   "cell_type": "code",
   "execution_count": 55,
   "id": "8b58d78a",
   "metadata": {},
   "outputs": [
    {
     "data": {
      "text/plain": [
       "1.0"
      ]
     },
     "execution_count": 55,
     "metadata": {},
     "output_type": "execute_result"
    }
   ],
   "source": [
    "recall_score(base.Situacao, base.predict)"
   ]
  },
  {
   "cell_type": "markdown",
   "id": "2adac737",
   "metadata": {},
   "source": [
    "**Aplicando na base de teste**"
   ]
  },
  {
   "cell_type": "code",
   "execution_count": 56,
   "id": "7adbafdb",
   "metadata": {},
   "outputs": [
    {
     "data": {
      "image/png": "[encoded data removed]",
      "text/plain": [
       "<Figure size 432x288 with 1 Axes>"
      ]
     },
     "metadata": {
      "needs_background": "light"
     },
     "output_type": "display_data"
    }
   ],
   "source": [
    "fig, ax = plt.subplots()\n",
    "ax.scatter(teste.SaldoConta, teste['SaldoInvestimento'],c = teste.Situacao)\n",
    "x = [6,-6]\n",
    "y = [-6,6]\n",
    "ax.plot(x, y)\n",
    "\n",
    "plt.show()"
   ]
  },
  {
   "cell_type": "code",
   "execution_count": 57,
   "id": "798dddf0",
   "metadata": {},
   "outputs": [
    {
     "data": {
      "text/plain": [
       "array([[98,  1],\n",
       "       [ 0, 79]])"
      ]
     },
     "execution_count": 57,
     "metadata": {},
     "output_type": "execute_result"
    }
   ],
   "source": [
    "confusion_matrix(teste.Situacao, teste.predict)"
   ]
  },
  {
   "cell_type": "code",
   "execution_count": 58,
   "id": "416ba062",
   "metadata": {},
   "outputs": [
    {
     "data": {
      "text/plain": [
       "0.9943820224719101"
      ]
     },
     "execution_count": 58,
     "metadata": {},
     "output_type": "execute_result"
    }
   ],
   "source": [
    "accuracy_score(teste.Situacao, teste.predict)"
   ]
  },
  {
   "cell_type": "code",
   "execution_count": 59,
   "id": "a9908012",
   "metadata": {},
   "outputs": [
    {
     "data": {
      "text/plain": [
       "0.9875"
      ]
     },
     "execution_count": 59,
     "metadata": {},
     "output_type": "execute_result"
    }
   ],
   "source": [
    "precision_score(teste.Situacao, teste.predict)"
   ]
  },
  {
   "cell_type": "markdown",
   "id": "cd778f01",
   "metadata": {},
   "source": [
    "### Usando o treino e teste split"
   ]
  },
  {
   "cell_type": "code",
   "execution_count": 60,
   "id": "4e9e128b",
   "metadata": {},
   "outputs": [],
   "source": [
    "arquivo = pd.read_excel(\"BaseInadimplencia.xlsx\")"
   ]
  },
  {
   "cell_type": "code",
   "execution_count": 61,
   "id": "6d99a26c",
   "metadata": {},
   "outputs": [
    {
     "data": {
      "text/plain": [
       "(1000, 3)"
      ]
     },
     "execution_count": 61,
     "metadata": {},
     "output_type": "execute_result"
    }
   ],
   "source": [
    "arquivo.shape"
   ]
  },
  {
   "cell_type": "code",
   "execution_count": 62,
   "id": "09933f62",
   "metadata": {},
   "outputs": [
    {
     "data": {
      "text/html": [
       "<div>\n",
       "<style scoped>\n",
       "    .dataframe tbody tr th:only-of-type {\n",
       "        vertical-align: middle;\n",
       "    }\n",
       "\n",
       "    .dataframe tbody tr th {\n",
       "        vertical-align: top;\n",
       "    }\n",
       "\n",
       "    .dataframe thead th {\n",
       "        text-align: right;\n",
       "    }\n",
       "</style>\n",
       "<table border=\"1\" class=\"dataframe\">\n",
       "  <thead>\n",
       "    <tr style=\"text-align: right;\">\n",
       "      <th></th>\n",
       "      <th>SaldoConta</th>\n",
       "      <th>SaldoInvestimento</th>\n",
       "      <th>Situacao</th>\n",
       "    </tr>\n",
       "  </thead>\n",
       "  <tbody>\n",
       "    <tr>\n",
       "      <th>0</th>\n",
       "      <td>-1.365390</td>\n",
       "      <td>-3.280278</td>\n",
       "      <td>0</td>\n",
       "    </tr>\n",
       "    <tr>\n",
       "      <th>1</th>\n",
       "      <td>-1.992492</td>\n",
       "      <td>-4.158429</td>\n",
       "      <td>0</td>\n",
       "    </tr>\n",
       "    <tr>\n",
       "      <th>2</th>\n",
       "      <td>-3.910816</td>\n",
       "      <td>-0.874096</td>\n",
       "      <td>0</td>\n",
       "    </tr>\n",
       "    <tr>\n",
       "      <th>3</th>\n",
       "      <td>-2.745822</td>\n",
       "      <td>-2.250098</td>\n",
       "      <td>0</td>\n",
       "    </tr>\n",
       "    <tr>\n",
       "      <th>4</th>\n",
       "      <td>-1.352205</td>\n",
       "      <td>-1.280924</td>\n",
       "      <td>0</td>\n",
       "    </tr>\n",
       "    <tr>\n",
       "      <th>...</th>\n",
       "      <td>...</td>\n",
       "      <td>...</td>\n",
       "      <td>...</td>\n",
       "    </tr>\n",
       "    <tr>\n",
       "      <th>995</th>\n",
       "      <td>2.258579</td>\n",
       "      <td>2.014766</td>\n",
       "      <td>1</td>\n",
       "    </tr>\n",
       "    <tr>\n",
       "      <th>996</th>\n",
       "      <td>1.446370</td>\n",
       "      <td>3.518259</td>\n",
       "      <td>1</td>\n",
       "    </tr>\n",
       "    <tr>\n",
       "      <th>997</th>\n",
       "      <td>2.678502</td>\n",
       "      <td>3.712650</td>\n",
       "      <td>1</td>\n",
       "    </tr>\n",
       "    <tr>\n",
       "      <th>998</th>\n",
       "      <td>2.370208</td>\n",
       "      <td>3.720116</td>\n",
       "      <td>1</td>\n",
       "    </tr>\n",
       "    <tr>\n",
       "      <th>999</th>\n",
       "      <td>-0.738375</td>\n",
       "      <td>2.087232</td>\n",
       "      <td>1</td>\n",
       "    </tr>\n",
       "  </tbody>\n",
       "</table>\n",
       "<p>1000 rows × 3 columns</p>\n",
       "</div>"
      ],
      "text/plain": [
       "     SaldoConta  SaldoInvestimento  Situacao\n",
       "0     -1.365390          -3.280278         0\n",
       "1     -1.992492          -4.158429         0\n",
       "2     -3.910816          -0.874096         0\n",
       "3     -2.745822          -2.250098         0\n",
       "4     -1.352205          -1.280924         0\n",
       "..          ...                ...       ...\n",
       "995    2.258579           2.014766         1\n",
       "996    1.446370           3.518259         1\n",
       "997    2.678502           3.712650         1\n",
       "998    2.370208           3.720116         1\n",
       "999   -0.738375           2.087232         1\n",
       "\n",
       "[1000 rows x 3 columns]"
      ]
     },
     "execution_count": 62,
     "metadata": {},
     "output_type": "execute_result"
    }
   ],
   "source": [
    "arquivo"
   ]
  },
  {
   "cell_type": "markdown",
   "id": "29533f4d",
   "metadata": {},
   "source": [
    "### Separando treino e teste"
   ]
  },
  {
   "cell_type": "code",
   "execution_count": 63,
   "id": "30504674",
   "metadata": {},
   "outputs": [],
   "source": [
    "from sklearn.model_selection import train_test_split"
   ]
  },
  {
   "cell_type": "code",
   "execution_count": 64,
   "id": "519c69b7",
   "metadata": {},
   "outputs": [],
   "source": [
    "x = arquivo[[\"SaldoConta\", \"SaldoInvestimento\"]]\n",
    "y = arquivo[\"Situacao\"]"
   ]
  },
  {
   "cell_type": "code",
   "execution_count": 65,
   "id": "dbda5911",
   "metadata": {},
   "outputs": [],
   "source": [
    "x_train, x_teste, y_train, y_test = train_test_split(x, y, test_size = 0.33, random_state = 42)"
   ]
  },
  {
   "cell_type": "code",
   "execution_count": 66,
   "id": "8c9233be",
   "metadata": {},
   "outputs": [],
   "source": [
    "# Transformando essa reta em uma função para classificar os pontos\n",
    "def clf(x,y):\n",
    "    # y_modelo = -x_modelo\n",
    "    y_modelo = -x\n",
    "\n",
    "    # Se y_modelo > y_dado -> class: 0\n",
    "    if y_modelo >= y:\n",
    "        return 0\n",
    "    # Se y_modelo < y_dado -> class: 1\n",
    "    elif y_modelo < y:\n",
    "        return 1"
   ]
  },
  {
   "cell_type": "code",
   "execution_count": 67,
   "id": "2d57ae93",
   "metadata": {},
   "outputs": [],
   "source": [
    "y_pred_train = x_train.apply(lambda x: clf(x[\"SaldoConta\"], x[\"SaldoInvestimento\"]), axis = 1)"
   ]
  },
  {
   "cell_type": "code",
   "execution_count": 68,
   "id": "fa1d27be",
   "metadata": {},
   "outputs": [],
   "source": [
    "y_pred_teste = x_teste.apply(lambda x: clf(x[\"SaldoConta\"], x[\"SaldoInvestimento\"]), axis = 1) "
   ]
  },
  {
   "cell_type": "code",
   "execution_count": 70,
   "id": "70ecaab9",
   "metadata": {},
   "outputs": [
    {
     "data": {
      "text/plain": [
       "703    1\n",
       "311    0\n",
       "722    1\n",
       "629    1\n",
       "0      0\n",
       "      ..\n",
       "106    0\n",
       "270    0\n",
       "860    1\n",
       "435    0\n",
       "102    0\n",
       "Length: 670, dtype: int64"
      ]
     },
     "execution_count": 70,
     "metadata": {},
     "output_type": "execute_result"
    }
   ],
   "source": [
    "y_pred_train"
   ]
  },
  {
   "cell_type": "markdown",
   "id": "3086303e",
   "metadata": {},
   "source": [
    "y_pred_teste"
   ]
  },
  {
   "cell_type": "markdown",
   "id": "d12b059a",
   "metadata": {},
   "source": [
    "### Avaliando modelo"
   ]
  },
  {
   "cell_type": "code",
   "execution_count": 74,
   "id": "962a1508",
   "metadata": {},
   "outputs": [],
   "source": [
    "from sklearn.metrics import confusion_matrix"
   ]
  },
  {
   "cell_type": "code",
   "execution_count": 75,
   "id": "af2a0f37",
   "metadata": {},
   "outputs": [
    {
     "data": {
      "text/plain": [
       "array([[359,   1],\n",
       "       [  0, 310]])"
      ]
     },
     "execution_count": 75,
     "metadata": {},
     "output_type": "execute_result"
    }
   ],
   "source": [
    "confusion_matrix(y_train, y_pred_train)"
   ]
  },
  {
   "cell_type": "code",
   "execution_count": 78,
   "id": "9aebf3ce",
   "metadata": {},
   "outputs": [
    {
     "data": {
      "text/plain": [
       "array([[183,   0],\n",
       "       [  0, 147]])"
      ]
     },
     "execution_count": 78,
     "metadata": {},
     "output_type": "execute_result"
    }
   ],
   "source": [
    "confusion_matrix(y_test, y_pred_teste)"
   ]
  },
  {
   "cell_type": "code",
   "execution_count": 80,
   "id": "a6c13a43",
   "metadata": {},
   "outputs": [
    {
     "data": {
      "text/plain": [
       "0.9985074626865672"
      ]
     },
     "execution_count": 80,
     "metadata": {},
     "output_type": "execute_result"
    }
   ],
   "source": [
    "accuracy_score(y_train, y_pred_train)"
   ]
  },
  {
   "cell_type": "code",
   "execution_count": 81,
   "id": "57fd3149",
   "metadata": {},
   "outputs": [
    {
     "data": {
      "text/plain": [
       "1.0"
      ]
     },
     "execution_count": 81,
     "metadata": {},
     "output_type": "execute_result"
    }
   ],
   "source": [
    "accuracy_score(y_test, y_pred_teste)"
   ]
  },
  {
   "cell_type": "code",
   "execution_count": 82,
   "id": "9940781e",
   "metadata": {},
   "outputs": [
    {
     "data": {
      "text/plain": [
       "0.9967845659163987"
      ]
     },
     "execution_count": 82,
     "metadata": {},
     "output_type": "execute_result"
    }
   ],
   "source": [
    "precision_score(y_train, y_pred_train)"
   ]
  },
  {
   "cell_type": "code",
   "execution_count": 83,
   "id": "fd81f4be",
   "metadata": {},
   "outputs": [
    {
     "data": {
      "text/plain": [
       "1.0"
      ]
     },
     "execution_count": 83,
     "metadata": {},
     "output_type": "execute_result"
    }
   ],
   "source": [
    "precision_score(y_test, y_pred_teste)"
   ]
  },
  {
   "cell_type": "code",
   "execution_count": 84,
   "id": "57c007a9",
   "metadata": {},
   "outputs": [
    {
     "data": {
      "text/plain": [
       "1.0"
      ]
     },
     "execution_count": 84,
     "metadata": {},
     "output_type": "execute_result"
    }
   ],
   "source": [
    "recall_score(y_train, y_pred_train)"
   ]
  },
  {
   "cell_type": "code",
   "execution_count": 85,
   "id": "ba1c9faf",
   "metadata": {},
   "outputs": [
    {
     "data": {
      "text/plain": [
       "1.0"
      ]
     },
     "execution_count": 85,
     "metadata": {},
     "output_type": "execute_result"
    }
   ],
   "source": [
    "recall_score(y_test, y_pred_teste)"
   ]
  },
  {
   "cell_type": "code",
   "execution_count": null,
   "id": "0919a0be",
   "metadata": {},
   "outputs": [],
   "source": []
  }
 ],
 "metadata": {
  "kernelspec": {
   "display_name": "Python 3 (ipykernel)",
   "language": "python",
   "name": "python3"
  },
  "language_info": {
   "codemirror_mode": {
    "name": "ipython",
    "version": 3
   },
   "file_extension": ".py",
   "mimetype": "text/x-python",
   "name": "python",
   "nbconvert_exporter": "python",
   "pygments_lexer": "ipython3",
   "version": "3.9.2"
  }
 },
 "nbformat": 4,
 "nbformat_minor": 5
}
